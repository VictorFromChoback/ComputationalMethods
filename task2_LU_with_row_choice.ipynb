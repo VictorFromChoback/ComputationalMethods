{
 "cells": [
  {
   "attachments": {},
   "cell_type": "markdown",
   "metadata": {},
   "source": [
    "# 2.2 Метод Гаусса с выбором главного элемента по строке"
   ]
  },
  {
   "cell_type": "code",
   "execution_count": 9,
   "metadata": {},
   "outputs": [],
   "source": [
    "import numpy as np\n",
    "import typing as tp\n",
    "import scipy.linalg as linalg\n",
    "\n",
    "from comp_pkg import LU_Solver"
   ]
  },
  {
   "attachments": {},
   "cell_type": "markdown",
   "metadata": {},
   "source": [
    "### 1 пример"
   ]
  },
  {
   "cell_type": "code",
   "execution_count": 5,
   "metadata": {},
   "outputs": [],
   "source": [
    "def print_result(A, b):\n",
    "    solver = LU_Solver(A, b)\n",
    "\n",
    "    L, U, Q, solution = solver.solve()\n",
    "\n",
    "    print(f\"L - {L}\")\n",
    "    print(f\"U - {U}\")\n",
    "    print(f\"Q - {Q}\")\n",
    "\n",
    "    print(f\"Ошибка вычисления - {np.linalg.norm(A @ solution - b):.10f}\")\n"
   ]
  },
  {
   "cell_type": "code",
   "execution_count": 6,
   "metadata": {},
   "outputs": [
    {
     "name": "stdout",
     "output_type": "stream",
     "text": [
      "L - [[1.         0.         0.        ]\n",
      " [1.66666667 1.         0.        ]\n",
      " [3.         2.25       1.        ]]\n",
      "U - [[ 3.          1.          2.        ]\n",
      " [ 0.          1.33333333  0.66666667]\n",
      " [ 0.          0.         -0.5       ]]\n",
      "Q - [[0. 1. 0.]\n",
      " [0. 0. 1.]\n",
      " [1. 0. 0.]]\n",
      "Ошибка вычисления - 0.0000000000\n"
     ]
    }
   ],
   "source": [
    "A = np.array([\n",
    "    [1, 2, 3],\n",
    "    [3, 4, 5],\n",
    "    [6, 7, 9]\n",
    "])\n",
    "\n",
    "b = np.array([1, 2, 3])\n",
    "\n",
    "print_result(A, b)"
   ]
  },
  {
   "attachments": {},
   "cell_type": "markdown",
   "metadata": {},
   "source": [
    "### 2 пример - матрица гильберта"
   ]
  },
  {
   "cell_type": "code",
   "execution_count": 11,
   "metadata": {},
   "outputs": [
    {
     "name": "stdout",
     "output_type": "stream",
     "text": [
      "L - [[1.         0.         0.         0.         0.        ]\n",
      " [0.5        1.         0.         0.         0.        ]\n",
      " [0.33333333 1.06666667 1.         0.         0.        ]\n",
      " [0.25       1.         1.5        1.         0.        ]\n",
      " [0.2        0.91428571 1.71428571 2.03174603 1.        ]]\n",
      "U - [[ 1.00000000e+00  3.33333333e-01  5.00000000e-01  2.00000000e-01\n",
      "   2.50000000e-01]\n",
      " [ 0.00000000e+00  8.33333333e-02  8.33333333e-02  6.66666667e-02\n",
      "   7.50000000e-02]\n",
      " [ 0.00000000e+00  1.38777878e-17 -5.55555556e-03  5.07936508e-03\n",
      "   3.33333333e-03]\n",
      " [ 0.00000000e+00  0.00000000e+00  0.00000000e+00  7.14285714e-04\n",
      "   3.57142857e-04]\n",
      " [ 0.00000000e+00  0.00000000e+00  0.00000000e+00  2.16840434e-19\n",
      "  -1.13378685e-05]]\n",
      "Q - [[1. 0. 0. 0. 0.]\n",
      " [0. 0. 1. 0. 0.]\n",
      " [0. 1. 0. 0. 0.]\n",
      " [0. 0. 0. 0. 1.]\n",
      " [0. 0. 0. 1. 0.]]\n",
      "Ошибка вычисления - 0.0000000000\n"
     ]
    }
   ],
   "source": [
    "A = linalg.hilbert(5)\n",
    "\n",
    "\n",
    "b = np.array([1, 2, 3, 4, 5])\n",
    "\n",
    "print_result(A, b)"
   ]
  },
  {
   "cell_type": "code",
   "execution_count": null,
   "metadata": {},
   "outputs": [],
   "source": []
  },
  {
   "cell_type": "code",
   "execution_count": null,
   "metadata": {},
   "outputs": [],
   "source": []
  },
  {
   "cell_type": "code",
   "execution_count": null,
   "metadata": {},
   "outputs": [],
   "source": []
  },
  {
   "cell_type": "code",
   "execution_count": null,
   "metadata": {},
   "outputs": [],
   "source": []
  }
 ],
 "metadata": {
  "kernelspec": {
   "display_name": "Python 3",
   "language": "python",
   "name": "python3"
  },
  "language_info": {
   "codemirror_mode": {
    "name": "ipython",
    "version": 3
   },
   "file_extension": ".py",
   "mimetype": "text/x-python",
   "name": "python",
   "nbconvert_exporter": "python",
   "pygments_lexer": "ipython3",
   "version": "3.8.10"
  },
  "orig_nbformat": 4,
  "vscode": {
   "interpreter": {
    "hash": "916dbcbb3f70747c44a77c7bcd40155683ae19c65e1c03b4aa3499c5328201f1"
   }
  }
 },
 "nbformat": 4,
 "nbformat_minor": 2
}
